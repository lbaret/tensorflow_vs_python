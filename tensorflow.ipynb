{
 "cells": [
  {
   "cell_type": "code",
   "execution_count": 2,
   "source": [
    "import tensorflow as tf\n",
    "import numpy as np\n",
    "import os\n",
    "\n",
    "work_directory = os.path.abspath(os.path.dirname(__name__))\n",
    "data_directory = os.path.join(work_directory, 'data')"
   ],
   "outputs": [],
   "metadata": {}
  },
  {
   "cell_type": "markdown",
   "source": [
    "# Chargement des données"
   ],
   "metadata": {}
  },
  {
   "cell_type": "code",
   "execution_count": null,
   "source": [
    "cifar_map = {\n",
    "    {'train': {\n",
    "        'images': None,\n",
    "        'labels': None\n",
    "    }},\n",
    "    {'test': {\n",
    "        'images': None,\n",
    "        'labels': None\n",
    "    }}\n",
    "}\n",
    "\n",
    "with open('data/', 'r') as f:\n",
    "    pass"
   ],
   "outputs": [],
   "metadata": {}
  }
 ],
 "metadata": {
  "orig_nbformat": 4,
  "language_info": {
   "name": "python"
  }
 },
 "nbformat": 4,
 "nbformat_minor": 2
}